{
  "nbformat": 4,
  "nbformat_minor": 0,
  "metadata": {
    "colab": {
      "name": "HW3 P1.ipynb",
      "provenance": [],
      "collapsed_sections": []
    },
    "kernelspec": {
      "name": "python3",
      "display_name": "Python 3"
    },
    "language_info": {
      "name": "python"
    }
  },
  "cells": [
    {
      "cell_type": "code",
      "metadata": {
        "colab": {
          "base_uri": "https://localhost:8080/"
        },
        "id": "29qeP6_jPfq7",
        "outputId": "661269b7-83fc-4d9f-84de-a7852801a5d6"
      },
      "source": [
        "import torch as t\n",
        "import numpy as np\n",
        "from torch.autograd import Variable\n",
        "import matplotlib.pyplot as plt\n",
        "\n",
        "# Measured Data for x1 and p \n",
        "x1_data = [0.0,0.1,0.2,0.3,0.4,0.5,0.6,0.7,0.8,0.9,1.0]\n",
        "p_data = [28.1, 34.4, 36.7, 36.9, 36.8, 36.7, 36.5, 35.4, 32.9, 27.7, 17.5]\n",
        "\n",
        "# saturation pressure = 10.0**((a[1] - (a[2] / (T + a[3]))))\n",
        "psat_wat = 10.0**(8.07131-1730.63/(20.0+233.426))\n",
        "psat_diox = 10.0**(7.43155-1554.679/(20.0+240.337))\n",
        "\n",
        "#defining a loss func.\n",
        "def loss(a): \n",
        "    loss_value = 0.0\n",
        "    for i in range(11):\n",
        "        x1 = x1_data[i]\n",
        "        p = p_data[i]\n",
        "        p_new = x1*psat_wat*t.exp(a[0]*(a[1]*(1-x1)/(a[0]*x1+a[1]*(1-x1)))**2) + (1-x1)*psat_diox*t.exp(a[1]*( a[0]*x1/( a[0]*x1+a[1]*(1-x1) ) )**2)\n",
        "        loss_value = loss_value + (p_new-p)**2\n",
        "    return loss_value\n",
        "#assume error as 1\n",
        "error = 1\n",
        "#initialize A12 and A21 \n",
        "A = Variable(t.tensor([1.0, 1.0]), requires_grad=True)\n",
        "\n",
        "# gradient decent\n",
        "while error >= 0.1:\n",
        "    loss(A).backward()\n",
        "    error = t.linalg.norm(A.grad)\n",
        "    # Perform line search n ensure smaller step size\n",
        "    s=.1  # intialize step size\n",
        "    while loss(A-s*A.grad) > loss(A):\n",
        "        s=.3*s\n",
        "    with t.no_grad():       \n",
        "        A -= s*A.grad\n",
        "        A.grad.zero_()\n",
        "\n",
        "print(' Optimized value of A12, A21 =', A)\n",
        "print(' value of loss function =', loss(A).data.numpy())\n",
        "\n",
        "from math import exp\n",
        "A = [1.9582, 1.6893]\n",
        "print(' COMPARISON TABLE')\n",
        "print('Given data        Calc. data            error')\n",
        "for i in range(11):\n",
        "    x1 = x1_data[i]\n",
        "    p_new = x1*psat_wat*exp(A[0]*(A[1]*(1-x1)/(A[0]*x1+A[1]*(1-x1)))**2) + (1-x1)*psat_diox*exp(A[1]*( A[0]*x1/( A[0]*x1+A[1]*(1-x1) ) )**2)\n",
        "    print(p_data[i], ' ------------ ',round(p_new,3) ,'------------', round((p_new-p_data[i])/p_data[i],4))\n",
        "\n"
      ],
      "execution_count": 21,
      "outputs": [
        {
          "output_type": "stream",
          "name": "stdout",
          "text": [
            " Optimized value of A12, A21 = tensor([1.9581, 1.6894], requires_grad=True)\n",
            " value of loss function = 0.6702018\n",
            " COMPARISON TABLE\n",
            "Given data        Calc. data            error\n",
            "28.1  ------------  28.824 ------------ 0.0258\n",
            "34.4  ------------  34.643 ------------ 0.0071\n",
            "36.7  ------------  36.452 ------------ -0.0068\n",
            "36.9  ------------  36.867 ------------ -0.0009\n",
            "36.8  ------------  36.873 ------------ 0.002\n",
            "36.7  ------------  36.749 ------------ 0.0013\n",
            "36.5  ------------  36.39 ------------ -0.003\n",
            "35.4  ------------  35.385 ------------ -0.0004\n",
            "32.9  ------------  32.948 ------------ 0.0015\n",
            "27.7  ------------  27.731 ------------ 0.0011\n",
            "17.5  ------------  17.473 ------------ -0.0015\n"
          ]
        }
      ]
    }
  ]
}